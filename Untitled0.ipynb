{
  "nbformat": 4,
  "nbformat_minor": 0,
  "metadata": {
    "colab": {
      "provenance": [],
      "authorship_tag": "ABX9TyMcRpyDQRYlzSAls/lj3CNf",
      "include_colab_link": true
    },
    "kernelspec": {
      "name": "python3",
      "display_name": "Python 3"
    },
    "language_info": {
      "name": "python"
    }
  },
  "cells": [
    {
      "cell_type": "markdown",
      "metadata": {
        "id": "view-in-github",
        "colab_type": "text"
      },
      "source": [
        "<a href=\"https://colab.research.google.com/github/dossantoscarlos/estacio/blob/master/Untitled0.ipynb\" target=\"_parent\"><img src=\"https://colab.research.google.com/assets/colab-badge.svg\" alt=\"Open In Colab\"/></a>"
      ]
    },
    {
      "cell_type": "code",
      "execution_count": null,
      "metadata": {
        "colab": {
          "base_uri": "https://localhost:8080/"
        },
        "id": "7Rx4e1NvP57E",
        "outputId": "0eeb5431-5ef8-45ae-e71d-425970b782eb"
      },
      "outputs": [
        {
          "output_type": "stream",
          "name": "stdout",
          "text": [
            "====================================================================\n",
            "Nome do veiculo: ford\n",
            "Velocidade maxima do veiculo: 60\n",
            "Quilometros por litro: 5.9\n",
            "Quantidade de Assento: 4\n",
            "====================================================================\n",
            "Nome do veiculo: Onibus\n",
            "Velocidade maxima do veiculo: 180\n",
            "Quilometros por litro: 7\n",
            "Quantidade de Assento: 80\n",
            "motor doo veiculo: 1.6\n",
            "====================================================================\n"
          ]
        }
      ],
      "source": [
        "class Veiculo:\n",
        "  def __init__(self,velocidade_max, quilometro_litro, nome_veiculo, quantidade_assento):\n",
        "    self.__velocidade_max = velocidade_max\n",
        "    self.__quilometro_litro = quilometro_litro\n",
        "    self.__nome_veiculo = nome_veiculo\n",
        "    self.__quantidade_assento = quantidade_assento\n",
        "\n",
        "  def getVelocidadeMax(self): \n",
        "    return self.__velocidade_max;\n",
        "\n",
        "  def getQuilometroLitro(self):\n",
        "    return self.__quilometro_litro\n",
        "\n",
        "  def getNomeVeiculo(self):\n",
        "    return self.__nome_veiculo\n",
        "  \n",
        "  def getQuantidadeAssento(self):\n",
        "    return self.__quantidade_assento\n",
        "\n",
        "  def quantidadeAssento(self):\n",
        "    print(f\"Quantidade de Assento: {self.getQuantidadeAssento()}\")   \n",
        "\n",
        "  def toStr(self):\n",
        "    print(f\"Nome do veiculo: {self.getNomeVeiculo()}\")\n",
        "    print(f\"Velocidade maxima do veiculo: {self.getVelocidadeMax()}\")\n",
        "    print(f\"Quilometros por litro: {self.getQuilometroLitro()}\")\n",
        "\n",
        "class Peca:\n",
        "    def __init__(self, motor):\n",
        "      self.__motor = motor\n",
        "    \n",
        "    def getMotor(self):\n",
        "      return self.__motor\n",
        "\n",
        "    def exibeMotor(self):\n",
        "      print(f\"motor doo veiculo: {self.getMotor()}\")\n",
        "\n",
        "class Onibus(Veiculo, Peca):\n",
        "   def __init__(self,velocidade_max, quilometro_litro, nome_veiculo, quantidade_assento, motor):\n",
        "      Veiculo.__init__(self,velocidade_max, quilometro_litro, nome_veiculo, quantidade_assento)\n",
        "      Peca.__init__(self,motor)\n",
        "  \n",
        "    \n",
        "print(\"====================================================================\")\n",
        "veiculo = Veiculo(60, 5.9, \"ford\",4)\n",
        "veiculo.toStr()\n",
        "veiculo.quantidadeAssento()\n",
        "print(\"====================================================================\")\n",
        "onibus = Onibus(180,7,\"Onibus\",80,1.6)\n",
        "onibus.toStr()\n",
        "onibus.quantidadeAssento()\n",
        "onibus.exibeMotor()\n",
        "print(\"====================================================================\")"
      ]
    },
    {
      "cell_type": "code",
      "source": [
        "# script funcao5.py\n",
        "def multiplicar_por(multiplicador):\n",
        "    return lambda multiplicando: multiplicando * multiplicador\n",
        "\n",
        "def main():\n",
        "    multiplicar_por_10 = multiplicar_por(10)\n",
        "    print(multiplicar_por_10(1))\n",
        "    print(multiplicar_por_10(2))\n",
        " \n",
        "    multiplicar_por_5 = multiplicar_por(5)\n",
        "    print(multiplicar_por_5(1))\n",
        "    print(multiplicar_por_5(2))\n",
        "\n",
        "if __name__ == \"__main__\":\n",
        "    main()"
      ],
      "metadata": {
        "colab": {
          "base_uri": "https://localhost:8080/"
        },
        "id": "cYL1_jgZgKgv",
        "outputId": "75dee0e7-2329-4951-9858-22e402066ca4"
      },
      "execution_count": 13,
      "outputs": [
        {
          "output_type": "stream",
          "name": "stdout",
          "text": [
            "10\n",
            "20\n",
            "5\n",
            "10\n"
          ]
        }
      ]
    },
    {
      "cell_type": "code",
      "source": [
        "lista = [1,2,3,4,5]\n",
        "def triplica_itens(interable):\n",
        "  list_aux=[]\n",
        "  for item in interable: \n",
        "    list_aux.append(item*3)\n",
        "  return list_aux\n",
        "\n",
        "def main():\n",
        "  nova_lista = triplica_itens(lista)\n",
        "  print(nova_lista)\n",
        "\n",
        "if __name__ ==\"__main__\":\n",
        "  main()\n"
      ],
      "metadata": {
        "colab": {
          "base_uri": "https://localhost:8080/"
        },
        "id": "G3Ef6Rmoki4y",
        "outputId": "bce211bc-afa9-414a-f0f2-c53a58910932"
      },
      "execution_count": 14,
      "outputs": [
        {
          "output_type": "stream",
          "name": "stdout",
          "text": [
            "[3, 6, 9, 12, 15]\n"
          ]
        }
      ]
    },
    {
      "cell_type": "code",
      "source": [
        "lista = [1,2,3,4,5]\n",
        "\n",
        "def triplica(item):\n",
        "  return item * 3\n",
        "\n",
        "def main():\n",
        "    nova_lista = map(triplica,lista)\n",
        "    print(list(nova_lista))\n",
        "\n",
        "if __name__ == \"__main__\":\n",
        "  main()"
      ],
      "metadata": {
        "colab": {
          "base_uri": "https://localhost:8080/"
        },
        "id": "MHCarmU_lmMV",
        "outputId": "c681f9eb-ea91-4b2f-d80a-12d449c0aea3"
      },
      "execution_count": 19,
      "outputs": [
        {
          "output_type": "stream",
          "name": "stdout",
          "text": [
            "[3, 6, 9, 12, 15]\n"
          ]
        }
      ]
    },
    {
      "cell_type": "code",
      "source": [
        "lista = [1,2,3,4,5] \n",
        "\n",
        "nova_lista = map(lambda item:item*3, lista)\n",
        "\n",
        "def main():\n",
        "  print(list(nova_lista))\n",
        "\n",
        "if __name__ == \"__main__\":\n",
        "  main()"
      ],
      "metadata": {
        "colab": {
          "base_uri": "https://localhost:8080/"
        },
        "id": "lep25JuimcCK",
        "outputId": "2510e531-3303-441b-e0cb-74d8b975be45"
      },
      "execution_count": 20,
      "outputs": [
        {
          "output_type": "stream",
          "name": "stdout",
          "text": [
            "[3, 6, 9, 12, 15]\n"
          ]
        }
      ]
    },
    {
      "cell_type": "code",
      "source": [
        "lista = [1,2,3,4,5]\n",
        "\n",
        "def impares(interable):\n",
        "  lista_aux = []\n",
        "  for item in interable:\n",
        "     if item % 2 != 0: \n",
        "      lista_aux.append(item)\n",
        "  return lista_aux\n",
        "\n",
        "def main():\n",
        "  nova_lista = impares(lista)\n",
        "  print(nova_lista) \n",
        "\n",
        "\n",
        "if __name__ == \"__main__\":\n",
        "  main()"
      ],
      "metadata": {
        "colab": {
          "base_uri": "https://localhost:8080/"
        },
        "id": "hCO19Wj-oBY8",
        "outputId": "641cbe73-050c-44a9-b739-bfe52dd16476"
      },
      "execution_count": 32,
      "outputs": [
        {
          "output_type": "stream",
          "name": "stdout",
          "text": [
            "[1, 3, 5]\n"
          ]
        }
      ]
    },
    {
      "cell_type": "code",
      "source": [
        "lista =[1,2,3,4,5]\n",
        "def impares(item):\n",
        "  return item % 2 != 0\n",
        "\n",
        "def main():\n",
        "  nova_lista = filter(impares, lista)\n",
        "  print(list(nova_lista))\n",
        "\n",
        "if __name__== \"__main__\":\n",
        "  main()"
      ],
      "metadata": {
        "colab": {
          "base_uri": "https://localhost:8080/"
        },
        "id": "74oo9ZeLp-ny",
        "outputId": "871b1aca-dfa7-4de5-ec85-a52e94095043"
      },
      "execution_count": 30,
      "outputs": [
        {
          "output_type": "stream",
          "name": "stdout",
          "text": [
            "[1, 3, 5]\n"
          ]
        }
      ]
    },
    {
      "cell_type": "code",
      "source": [
        "lista=[1,2,3,4,5]  \n",
        "nova_lista = filter(lambda item:item % 2!=0, lista)\n",
        "\n",
        "def main ():\n",
        "  print(list(nova_lista))\n",
        "\n",
        "if __name__ == \"__main__\":\n",
        "  main()"
      ],
      "metadata": {
        "colab": {
          "base_uri": "https://localhost:8080/"
        },
        "id": "jDyPanNgqkkN",
        "outputId": "1e530991-609e-4fcd-9f37-741a83893b71"
      },
      "execution_count": 31,
      "outputs": [
        {
          "output_type": "stream",
          "name": "stdout",
          "text": [
            "[1, 3, 5]\n"
          ]
        }
      ]
    },
    {
      "cell_type": "code",
      "source": [
        "# script funcao3.py\n",
        "# captando os valores do campo Input\n",
        "valores = input() \n",
        "# separando os valores pelo espaço em branco e \n",
        "# transformando-os em uma lista de inteiros\n",
        "valores = [int(i) for i in valores.split()]\n",
        "\n",
        "def altera_lista(lista):\n",
        "    lista[2] = lista[2] + 10\n",
        "    return lista\n",
        "\n",
        "def main():\n",
        "    print(\"Nova lista\", altera_lista(valores))\n",
        "    print(\"Nova lista\", altera_lista(valores))\n",
        "\n",
        "if __name__ == \"__main__\":\n",
        "    main()\n"
      ],
      "metadata": {
        "colab": {
          "base_uri": "https://localhost:8080/"
        },
        "id": "i0r2R8PSM563",
        "outputId": "a4c190c7-aedf-43be-a881-c1996fcca2a3"
      },
      "execution_count": null,
      "outputs": [
        {
          "output_type": "stream",
          "name": "stdout",
          "text": [
            "10 09 8\n",
            "Nova lista [10, 9, 18]\n",
            "Nova lista [10, 9, 28]\n"
          ]
        }
      ]
    },
    {
      "cell_type": "code",
      "source": [
        "# captando os valores do campo Input\n",
        "\n",
        "valores = input()\n",
        "\n",
        "# separando os valores pelo espaço em branco e\n",
        "\n",
        "# transformando-os em uma lista de inteiros\n",
        "\n",
        "valores = [int(i) for i in valores.split()]\n",
        "\n",
        "\n",
        "\n",
        "def altera_lista(lista):\n",
        "\n",
        "    nova_lista = list(lista)\n",
        "\n",
        "    nova_lista[2] = nova_lista[2] + 10\n",
        "\n",
        "    return nova_lista\n",
        "\n",
        "\n",
        "\n",
        "def main():\n",
        "\n",
        "        print(\"Nova lista\", altera_lista(valores))\n",
        "\n",
        "        print(\"Nova lista\", altera_lista(valores))\n",
        "\n",
        "if __name__ == \"__main__\":\n",
        "\n",
        "        main()"
      ],
      "metadata": {
        "colab": {
          "base_uri": "https://localhost:8080/"
        },
        "id": "sijraOk0NuTC",
        "outputId": "d9116bca-8e09-4aea-9155-34adcbdf1305"
      },
      "execution_count": null,
      "outputs": [
        {
          "output_type": "stream",
          "name": "stdout",
          "text": [
            "10 10 40\n",
            "Nova lista [10, 10, 50]\n",
            "Nova lista [10, 10, 50]\n"
          ]
        }
      ]
    }
  ]
}